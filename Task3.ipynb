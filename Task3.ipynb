{
 "cells": [
  {
   "cell_type": "code",
   "execution_count": 70,
   "id": "a4e6903d-5510-47a1-b7f0-d71659b05b86",
   "metadata": {},
   "outputs": [
    {
     "name": "stdin",
     "output_type": "stream",
     "text": [
      "Enter range:  5\n"
     ]
    },
    {
     "name": "stdout",
     "output_type": "stream",
     "text": [
      "A \n",
      "B B \n",
      "C C C \n",
      "D D D D \n",
      "E E E E E \n"
     ]
    }
   ],
   "source": [
    "# 11.Triangle of Alphabets\n",
    "\n",
    "n = int(input(\"Enter range: \"))\n",
    "l1 = ['A', 'B', 'C', 'D', 'E', 'F', 'G', 'H', 'I', 'J']\n",
    "\n",
    "for i in range(1, n+1):\n",
    "    for j in range(i):\n",
    "        print(l1[i-1], end=\" \")\n",
    "    print()\n",
    "\n",
    "\n",
    "\n",
    "\n"
   ]
  },
  {
   "cell_type": "code",
   "execution_count": 29,
   "id": "eed6148f-6d68-4952-a163-4f784793e2d4",
   "metadata": {},
   "outputs": [
    {
     "name": "stdin",
     "output_type": "stream",
     "text": [
      "Enter range:  6\n"
     ]
    },
    {
     "name": "stdout",
     "output_type": "stream",
     "text": [
      "1 \n",
      "2 3 \n",
      "4 5 6 \n",
      "7 8 9 10 \n",
      "11 12 13 14 15 \n",
      "16 17 18 19 20 21 \n"
     ]
    }
   ],
   "source": [
    "#10.Print a triangle with increasing numbers:\n",
    "\n",
    "# 1\n",
    "# 2 3\n",
    "# 4 5 6\n",
    "# 7 8 9 10\n",
    "\n",
    "n = int(input(\"Enter range: \")) \n",
    "k = 1\n",
    "\n",
    "for i in range(1,n+1):\n",
    "    for j in range(1,i+1):\n",
    "        print(k,end = ' ')\n",
    "        k += 1\n",
    "    print()"
   ]
  },
  {
   "cell_type": "code",
   "execution_count": 40,
   "id": "0612054c-6a25-4030-bf60-b00bf3710dae",
   "metadata": {},
   "outputs": [
    {
     "name": "stdin",
     "output_type": "stream",
     "text": [
      "Enter range:  5\n"
     ]
    },
    {
     "name": "stdout",
     "output_type": "stream",
     "text": [
      "A1 A2 A3 A4 A5 \n",
      "B1 B2 B3 B4 B5 \n",
      "C1 C2 C3 C4 C5 \n",
      "D1 D2 D3 D4 D5 \n",
      "E1 E2 E3 E4 E5 \n"
     ]
    }
   ],
   "source": [
    "#9.Print a chessboard grid with labels:\n",
    "\n",
    "# A1 A2 A3 A4\n",
    "# B1 B2 B3 B4\n",
    "# C1 C2 C3 C4\n",
    "# D1 D2 D3 D4\n",
    "\n",
    "n = int(input(\"Enter range: \"))\n",
    "l1 = ['A', 'B', 'C', 'D', 'E', 'F', 'G', 'H', 'I', 'J']\n",
    "\n",
    "for i in range(1, n+1):\n",
    "    k = 1\n",
    "    for j in range(1, n+1):\n",
    "        print(l1[i-1]+str(k), end=\" \")\n",
    "        k += 1\n",
    "    print()"
   ]
  },
  {
   "cell_type": "code",
   "execution_count": 48,
   "id": "674004a0-5f52-42f4-a036-1d839d4afb1d",
   "metadata": {},
   "outputs": [
    {
     "name": "stdin",
     "output_type": "stream",
     "text": [
      "Enter row:  5\n"
     ]
    },
    {
     "name": "stdout",
     "output_type": "stream",
     "text": [
      "1 \n",
      "2 2 \n",
      "3 3 3 \n",
      "4 4 4 4 \n",
      "5 5 5 5 5 \n"
     ]
    }
   ],
   "source": [
    "# 8.pattern with row numbers\n",
    "\n",
    "# 1\n",
    "# 2 2\n",
    "# 3 3 3\n",
    "# 4 4 4 4\n",
    "\n",
    "n = int(input(\"Enter row: \"))\n",
    "\n",
    "\n",
    "for i in range(1,n+1):\n",
    "    for j in range(1,i+1):\n",
    "        print(i,end = \" \")\n",
    "    i+=1\n",
    "    print()\n"
   ]
  },
  {
   "cell_type": "code",
   "execution_count": 66,
   "id": "3e379d4e-3874-4eb9-b944-247ca6f19342",
   "metadata": {},
   "outputs": [
    {
     "name": "stdout",
     "output_type": "stream",
     "text": [
      "B W B W \n",
      "W B W B \n",
      "B W B W \n",
      "W B W B \n"
     ]
    }
   ],
   "source": [
    "# 7.Print a 4x4 grid like:\n",
    "\n",
    "# B W B W\n",
    "# W B W B\n",
    "# B W B W\n",
    "# W B W B\n",
    "\n",
    "for i in range(4):\n",
    "    for j in range(1,5):\n",
    "        if (i+j) == 4 or (i+j) == 2 or (i+j) == 6:\n",
    "            print(\"W\", end = \" \")\n",
    "        else:\n",
    "            print(\"B\", end = \" \")\n",
    "    print()"
   ]
  },
  {
   "cell_type": "code",
   "execution_count": null,
   "id": "b5f8862f-c3ae-4f87-83f3-0c0e9e402c81",
   "metadata": {},
   "outputs": [],
   "source": [
    "# 6.Pyramid of stars\n",
    "\n",
    "#     *\n",
    "#    ***\n",
    "#   *****\n",
    "#  *******\n",
    "\n"
   ]
  },
  {
   "cell_type": "code",
   "execution_count": 71,
   "id": "d07d17c0-1000-452e-8633-a943a5c2ed71",
   "metadata": {},
   "outputs": [
    {
     "name": "stdin",
     "output_type": "stream",
     "text": [
      "Enter ur mumber:  5\n"
     ]
    },
    {
     "name": "stdout",
     "output_type": "stream",
     "text": [
      "1 * 1 * 1\n",
      "2 * 1 * 2\n",
      "3 * 1 * 3\n",
      "4 * 1 * 4\n",
      "5 * 1 * 5\n",
      "6 * 1 * 6\n",
      "7 * 1 * 7\n",
      "8 * 1 * 8\n",
      "9 * 1 * 9\n",
      "10 * 1 * 10\n",
      "\n",
      "1 * 2 * 2\n",
      "2 * 2 * 4\n",
      "3 * 2 * 6\n",
      "4 * 2 * 8\n",
      "5 * 2 * 10\n",
      "6 * 2 * 12\n",
      "7 * 2 * 14\n",
      "8 * 2 * 16\n",
      "9 * 2 * 18\n",
      "10 * 2 * 20\n",
      "\n",
      "1 * 3 * 3\n",
      "2 * 3 * 6\n",
      "3 * 3 * 9\n",
      "4 * 3 * 12\n",
      "5 * 3 * 15\n",
      "6 * 3 * 18\n",
      "7 * 3 * 21\n",
      "8 * 3 * 24\n",
      "9 * 3 * 27\n",
      "10 * 3 * 30\n",
      "\n",
      "1 * 4 * 4\n",
      "2 * 4 * 8\n",
      "3 * 4 * 12\n",
      "4 * 4 * 16\n",
      "5 * 4 * 20\n",
      "6 * 4 * 24\n",
      "7 * 4 * 28\n",
      "8 * 4 * 32\n",
      "9 * 4 * 36\n",
      "10 * 4 * 40\n",
      "\n",
      "1 * 5 * 5\n",
      "2 * 5 * 10\n",
      "3 * 5 * 15\n",
      "4 * 5 * 20\n",
      "5 * 5 * 25\n",
      "6 * 5 * 30\n",
      "7 * 5 * 35\n",
      "8 * 5 * 40\n",
      "9 * 5 * 45\n",
      "10 * 5 * 50\n",
      "\n"
     ]
    }
   ],
   "source": [
    "# 1.Print the multiplication table from 1 to 10 using nested loops.\n",
    "n = int(input(\"Enter ur mumber: \"))\n",
    "\n",
    "for i in range (1,n+1):\n",
    "    for j in range(1,11):\n",
    "        print(j,\"*\",i,\"*\",i*j)\n",
    "    print()\n",
    "\n"
   ]
  },
  {
   "cell_type": "code",
   "execution_count": 74,
   "id": "135b28c8-5f06-4a52-ac69-d39cf116c399",
   "metadata": {},
   "outputs": [
    {
     "name": "stdin",
     "output_type": "stream",
     "text": [
      "Enter the no.of row:  6\n"
     ]
    },
    {
     "name": "stdout",
     "output_type": "stream",
     "text": [
      "1 2 3 4 5 6 \n",
      "1 2 3 4 5 6 \n",
      "1 2 3 4 5 6 \n",
      "1 2 3 4 5 6 \n",
      "1 2 3 4 5 6 \n",
      "1 2 3 4 5 6 \n"
     ]
    }
   ],
   "source": [
    "# 2.Output a grid like this:\n",
    "\n",
    "# 1 2 3\n",
    "# 1 2 3\n",
    "# 1 2 3 \n",
    "n = int(input(\"Enter the no.of row: \"))\n",
    "for i in range (1,n+1):\n",
    "    for j in range(1,n+1):\n",
    "        print(j,end=\" \")\n",
    "    print()"
   ]
  },
  {
   "cell_type": "code",
   "execution_count": 75,
   "id": "059f4f31-9124-4343-b823-c61cfd7721b9",
   "metadata": {},
   "outputs": [
    {
     "name": "stdin",
     "output_type": "stream",
     "text": [
      "Enter the no.of row:  5\n"
     ]
    },
    {
     "name": "stdout",
     "output_type": "stream",
     "text": [
      "1 \n",
      "1 2 \n",
      "1 2 3 \n",
      "1 2 3 4 \n",
      "1 2 3 4 5 \n"
     ]
    }
   ],
   "source": [
    "# 3.Incremental number triangle\n",
    "\n",
    "# 1\n",
    "# 1 2\n",
    "# 1 2 3\n",
    "# 1 2 3 4\n",
    "\n",
    "n = int(input(\"Enter the no.of row: \"))\n",
    "for i in range (1,n+1):\n",
    "    for j in range(1,i+1):\n",
    "        print(j,end=\" \")\n",
    "    print()"
   ]
  },
  {
   "cell_type": "code",
   "execution_count": 77,
   "id": "30b6ae9a-960c-4ea4-a15f-e088a7fc54b7",
   "metadata": {},
   "outputs": [
    {
     "name": "stdin",
     "output_type": "stream",
     "text": [
      "Enter the no.of row:  5\n"
     ]
    },
    {
     "name": "stdout",
     "output_type": "stream",
     "text": [
      "* \n",
      "* * \n",
      "* * * \n",
      "* * * * \n",
      "* * * * * \n"
     ]
    }
   ],
   "source": [
    "# 4.Right angled triangle of stars\n",
    "\n",
    "# *\n",
    "# **\n",
    "# ***\n",
    "# ****\n",
    "\n",
    "\n",
    "n = int(input(\"Enter the no.of row: \"))\n",
    "for i in range (1,n+1):\n",
    "    for j in range(1,i+1):\n",
    "        print(\"*\",end=\" \")\n",
    "    print()"
   ]
  },
  {
   "cell_type": "code",
   "execution_count": null,
   "id": "b5b63bd5-20ac-453f-809f-253c4fda551d",
   "metadata": {},
   "outputs": [],
   "source": []
  },
  {
   "cell_type": "code",
   "execution_count": null,
   "id": "90f5fc84-6d33-4083-bc54-62c1f93a9b5b",
   "metadata": {},
   "outputs": [],
   "source": []
  }
 ],
 "metadata": {
  "kernelspec": {
   "display_name": "Python 3 (ipykernel)",
   "language": "python",
   "name": "python3"
  },
  "language_info": {
   "codemirror_mode": {
    "name": "ipython",
    "version": 3
   },
   "file_extension": ".py",
   "mimetype": "text/x-python",
   "name": "python",
   "nbconvert_exporter": "python",
   "pygments_lexer": "ipython3",
   "version": "3.13.7"
  }
 },
 "nbformat": 4,
 "nbformat_minor": 5
}
