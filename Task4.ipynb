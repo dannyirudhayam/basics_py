{
 "cells": [
  {
   "cell_type": "code",
   "execution_count": null,
   "id": "77eb0af0-118d-4f9d-9842-9a691e052f9d",
   "metadata": {},
   "outputs": [],
   "source": [
    "#1. Print all even numbers between 1–20, skipping odd numbers using continue\n",
    "\n",
    "i = 1\n",
    "while i <=20:\n",
    "    j = 0\n",
    "    while j <=1:\n",
    "        if i%2==0: \n",
    "            print(i)\n",
    "            i += 1 \n",
    "        j += 1"
   ]
  },
  {
   "cell_type": "code",
   "execution_count": 23,
   "id": "a42646de-b8e7-4dcb-a15e-f60abef9e779",
   "metadata": {},
   "outputs": [
    {
     "name": "stdout",
     "output_type": "stream",
     "text": [
      "2\n",
      "4\n",
      "6\n",
      "8\n",
      "10\n",
      "12\n",
      "14\n",
      "16\n",
      "18\n",
      "20\n"
     ]
    }
   ],
   "source": [
    "for i in range(1,21):\n",
    "    if i % 2 != 0:        \n",
    "        continue      \n",
    "    print(i)         "
   ]
  },
  {
   "cell_type": "code",
   "execution_count": 22,
   "id": "21d87ce8-8abb-4597-95c7-3737372e4059",
   "metadata": {},
   "outputs": [
    {
     "name": "stdout",
     "output_type": "stream",
     "text": [
      "2\n",
      "4\n",
      "6\n",
      "8\n",
      "10\n",
      "12\n",
      "14\n",
      "16\n",
      "18\n",
      "20\n"
     ]
    }
   ],
   "source": [
    "i = 1\n",
    "while i <=20:\n",
    "        if i%2!=0: \n",
    "            i += 1\n",
    "            continue\n",
    "        print(i)\n",
    "        i += 1"
   ]
  },
  {
   "cell_type": "code",
   "execution_count": null,
   "id": "60a8ca66-9ce3-43ea-b3a1-48fa96c857f9",
   "metadata": {},
   "outputs": [],
   "source": []
  }
 ],
 "metadata": {
  "kernelspec": {
   "display_name": "Python 3 (ipykernel)",
   "language": "python",
   "name": "python3"
  },
  "language_info": {
   "codemirror_mode": {
    "name": "ipython",
    "version": 3
   },
   "file_extension": ".py",
   "mimetype": "text/x-python",
   "name": "python",
   "nbconvert_exporter": "python",
   "pygments_lexer": "ipython3",
   "version": "3.13.7"
  }
 },
 "nbformat": 4,
 "nbformat_minor": 5
}
