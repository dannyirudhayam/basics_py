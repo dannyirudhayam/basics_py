{
 "cells": [
  {
   "cell_type": "code",
   "execution_count": 9,
   "id": "bbfd2a1e-9e7b-4eea-8c7b-0be000274bc8",
   "metadata": {},
   "outputs": [
    {
     "name": "stdout",
     "output_type": "stream",
     "text": [
      "dannyirudhayam\n"
     ]
    }
   ],
   "source": [
    "a = 'danny'\n",
    "b = 'irudhayam'\n",
    "print(a+b)"
   ]
  },
  {
   "cell_type": "code",
   "execution_count": 19,
   "id": "ca74f2d5-ba58-45ff-ae1d-fd1e7807d838",
   "metadata": {},
   "outputs": [
    {
     "name": "stdout",
     "output_type": "stream",
     "text": [
      "Mar 04\n"
     ]
    }
   ],
   "source": [
    "dan04 = 'Mar 04'\n",
    "print(dan04)"
   ]
  },
  {
   "cell_type": "code",
   "execution_count": 10,
   "id": "18e8a585-e21d-44a6-9153-b655d18acae2",
   "metadata": {},
   "outputs": [
    {
     "name": "stdout",
     "output_type": "stream",
     "text": [
      "<class 'str'>\n",
      "<class 'int'>\n"
     ]
    }
   ],
   "source": [
    "a = 'danny'\n",
    "b = 893\n",
    "print(type(a))\n",
    "print(type(b))"
   ]
  },
  {
   "cell_type": "code",
   "execution_count": 11,
   "id": "6fc17d37-c623-465c-9b88-2bff5184b1cd",
   "metadata": {},
   "outputs": [
    {
     "name": "stdout",
     "output_type": "stream",
     "text": [
      "True\n"
     ]
    }
   ],
   "source": [
    "a=12     #identity operator 'is'\n",
    "b= 12\n",
    "print(a is b)"
   ]
  },
  {
   "cell_type": "code",
   "execution_count": 12,
   "id": "559fa38d-a887-42d4-8b60-91b5dbf91d02",
   "metadata": {},
   "outputs": [
    {
     "name": "stdout",
     "output_type": "stream",
     "text": [
      "False\n"
     ]
    }
   ],
   "source": [
    "a=1,2,3\n",
    "b= 1,2,3\n",
    "print(a is b)"
   ]
  },
  {
   "cell_type": "code",
   "execution_count": 13,
   "id": "6326e99e-c907-48a5-aa26-87950491e69f",
   "metadata": {},
   "outputs": [
    {
     "name": "stdout",
     "output_type": "stream",
     "text": [
      "True\n"
     ]
    }
   ],
   "source": [
    "a=1,2,3\n",
    "b= 1,2,3\n",
    "print(a is not b)"
   ]
  },
  {
   "cell_type": "code",
   "execution_count": 14,
   "id": "3de720e8-1d24-4ab4-9631-f15fde0ef97c",
   "metadata": {},
   "outputs": [
    {
     "name": "stdout",
     "output_type": "stream",
     "text": [
      "True\n"
     ]
    }
   ],
   "source": [
    "a=1,2,3\n",
    "b=a= 1,2,3\n",
    "print(a is b)"
   ]
  },
  {
   "cell_type": "code",
   "execution_count": 15,
   "id": "6bc8ae84-753e-4be5-b9f4-ab3540e13a5e",
   "metadata": {},
   "outputs": [
    {
     "name": "stdout",
     "output_type": "stream",
     "text": [
      "False\n"
     ]
    }
   ],
   "source": [
    "a=b=1,2,3\n",
    "b= 1,2,3\n",
    "print(a is b)"
   ]
  },
  {
   "cell_type": "code",
   "execution_count": 16,
   "id": "0bced0de-498e-4e5a-a297-225da0bec39c",
   "metadata": {},
   "outputs": [
    {
     "name": "stdout",
     "output_type": "stream",
     "text": [
      "True\n",
      "False\n"
     ]
    }
   ],
   "source": [
    "# membership operator 'in'\n",
    "l = [2,1,3,4,5,9,8]\n",
    "print(2 in l)\n",
    "print(9 not in l)"
   ]
  },
  {
   "cell_type": "code",
   "execution_count": 18,
   "id": "76c376c1-f7cb-4b53-b14e-f4f69ddbcf28",
   "metadata": {},
   "outputs": [
    {
     "name": "stdout",
     "output_type": "stream",
     "text": [
      "5 -> 0b101\n",
      "3 -> 0b11\n",
      "\n",
      "AND (a & b): 1\n",
      "OR  (a | b): 7\n",
      "XOR (a ^ b): 6\n",
      "NOT (~a): -6\n",
      "Left Shift (a << 1): 10\n",
      "Right Shift (a >> 1): 2\n"
     ]
    }
   ],
   "source": [
    "#Bitwise Operator\n",
    "\n",
    "a = 5   #0101\n",
    "b = 3   #0011 \n",
    "\n",
    "print( a, \"->\", bin(a))\n",
    "print( b, \"->\", bin(b))\n",
    "\n",
    "#AND\n",
    "print(\"\\nAND (a & b):\", a & b)\n",
    "\n",
    "#OR\n",
    "print(\"OR  (a | b):\", a | b)\n",
    "\n",
    "#XOR\n",
    "print(\"XOR (a ^ b):\", a ^ b)\n",
    "\n",
    "#NOT\n",
    "print(\"NOT (~a):\", ~a)\n",
    "\n",
    "#Left Shift (<<)\n",
    "print(\"Left Shift (a << 1):\", a << 1)\n",
    "\n",
    "#Right Shift (>>)\n",
    "print(\"Right Shift (a >> 1):\", a >> 1)\n"
   ]
  },
  {
   "cell_type": "code",
   "execution_count": null,
   "id": "979ca1b6",
   "metadata": {},
   "outputs": [],
   "source": []
  }
 ],
 "metadata": {
  "kernelspec": {
   "display_name": "Python 3 (ipykernel)",
   "language": "python",
   "name": "python3"
  },
  "language_info": {
   "codemirror_mode": {
    "name": "ipython",
    "version": 3
   },
   "file_extension": ".py",
   "mimetype": "text/x-python",
   "name": "python",
   "nbconvert_exporter": "python",
   "pygments_lexer": "ipython3",
   "version": "3.13.7"
  }
 },
 "nbformat": 4,
 "nbformat_minor": 5
}
