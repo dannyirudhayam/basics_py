{
 "cells": [
  {
   "cell_type": "code",
   "execution_count": null,
   "id": "bbfd2a1e-9e7b-4eea-8c7b-0be000274bc8",
   "metadata": {},
   "outputs": [
    {
     "ename": "",
     "evalue": "",
     "output_type": "error",
     "traceback": [
      "\u001b[1;31mRunning cells with 'Python 3.13.7' requires the ipykernel package.\n",
      "\u001b[1;31m<a href='command:jupyter.createPythonEnvAndSelectController'>Create a Python Environment</a> with the required packages.\n",
      "\u001b[1;31mOr install 'ipykernel' using the command: 'c:/Users/XNovaQ.24/AppData/Local/Microsoft/WindowsApps/python3.13.exe -m pip install ipykernel -U --user --force-reinstall'"
     ]
    }
   ],
   "source": [
    "a = 'danny'\n",
    "b = 'irudhayam'\n",
    "print(a+b)"
   ]
  },
  {
   "cell_type": "code",
   "execution_count": null,
   "id": "18e8a585-e21d-44a6-9153-b655d18acae2",
   "metadata": {},
   "outputs": [],
   "source": [
    "a = 'danny'\n",
    "b = 893\n",
    "print(type(a))\n",
    "print(type(b))"
   ]
  },
  {
   "cell_type": "code",
   "execution_count": null,
   "id": "6fc17d37-c623-465c-9b88-2bff5184b1cd",
   "metadata": {},
   "outputs": [],
   "source": [
    "a=12     #identity operator 'is'\n",
    "b= 12\n",
    "print(a is b)"
   ]
  },
  {
   "cell_type": "code",
   "execution_count": null,
   "id": "559fa38d-a887-42d4-8b60-91b5dbf91d02",
   "metadata": {},
   "outputs": [],
   "source": [
    "a=1,2,3\n",
    "b= 1,2,3\n",
    "print(a is b)"
   ]
  },
  {
   "cell_type": "code",
   "execution_count": null,
   "id": "6326e99e-c907-48a5-aa26-87950491e69f",
   "metadata": {},
   "outputs": [],
   "source": [
    "a=1,2,3\n",
    "b= 1,2,3\n",
    "print(a is not b)"
   ]
  },
  {
   "cell_type": "code",
   "execution_count": null,
   "id": "3de720e8-1d24-4ab4-9631-f15fde0ef97c",
   "metadata": {},
   "outputs": [],
   "source": [
    "a=1,2,3\n",
    "b=a= 1,2,3\n",
    "print(a is b)"
   ]
  },
  {
   "cell_type": "code",
   "execution_count": null,
   "id": "6bc8ae84-753e-4be5-b9f4-ab3540e13a5e",
   "metadata": {},
   "outputs": [],
   "source": [
    "a=b=1,2,3\n",
    "b= 1,2,3\n",
    "print(a is b)"
   ]
  },
  {
   "cell_type": "code",
   "execution_count": null,
   "id": "0bced0de-498e-4e5a-a297-225da0bec39c",
   "metadata": {},
   "outputs": [],
   "source": [
    "# membership operator 'in'\n",
    "l = [2,1,3,4,5,9,8]\n",
    "print(2 in l)\n",
    "print(9 not in l)"
   ]
  },
  {
   "cell_type": "code",
   "execution_count": null,
   "id": "76c376c1-f7cb-4b53-b14e-f4f69ddbcf28",
   "metadata": {},
   "outputs": [],
   "source": [
    "#Bitwise Operator\n",
    "\n",
    "a = 5   #0101\n",
    "b = 3   #0011 \n",
    "\n",
    "print( a, \"->\", bin(a))\n",
    "print( b, \"->\", bin(b))\n",
    "\n",
    "#AND\n",
    "print(\"\\nAND (a & b):\", a & b, \"->\", bin(a & b))\n",
    "\n",
    "#OR\n",
    "print(\"OR  (a | b):\", a | b, \"->\", bin(a | b))\n",
    "\n",
    "#XOR\n",
    "print(\"XOR (a ^ b):\", a ^ b, \"->\", bin(a ^ b))\n",
    "\n",
    "#NOT\n",
    "print(\"NOT (~a):\", ~a, \"->\", bin(~a))\n",
    "\n",
    "#Left Shift (<<)\n",
    "print(\"Left Shift (a << 1):\", a << 1, \"->\", bin(a << 1))\n",
    "\n",
    "#Right Shift (>>)\n",
    "print(\"Right Shift (a >> 1):\", a >> 1, \"->\", bin(a >> 1))\n"
   ]
  },
  {
   "cell_type": "code",
   "execution_count": null,
   "id": "979ca1b6",
   "metadata": {},
   "outputs": [],
   "source": []
  }
 ],
 "metadata": {
  "kernelspec": {
   "display_name": "Python 3",
   "language": "python",
   "name": "python3"
  },
  "language_info": {
   "codemirror_mode": {
    "name": "ipython",
    "version": 3
   },
   "file_extension": ".py",
   "mimetype": "text/x-python",
   "name": "python",
   "nbconvert_exporter": "python",
   "pygments_lexer": "ipython3",
   "version": "3.13.7"
  }
 },
 "nbformat": 4,
 "nbformat_minor": 5
}
