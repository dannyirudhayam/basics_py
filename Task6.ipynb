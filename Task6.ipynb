{
 "cells": [
  {
   "cell_type": "code",
   "execution_count": 6,
   "id": "eac326ca-6a98-4fdd-ba06-0c78db07c26f",
   "metadata": {},
   "outputs": [
    {
     "name": "stdout",
     "output_type": "stream",
     "text": [
      "adfuiau\n",
      "akfgkah\n"
     ]
    }
   ],
   "source": [
    "class Dog:\n",
    "    def bark(self):\n",
    "        print(\"adfuiau\")\n",
    "    def sleep(self):\n",
    "        print(\"akfgkah\")\n",
    "\n",
    "dog1 = Dog()\n",
    "dog1.bark()\n",
    "dog1.sleep()"
   ]
  },
  {
   "cell_type": "code",
   "execution_count": 22,
   "id": "1f904c30-e08e-4cb1-a445-0813108a3461",
   "metadata": {},
   "outputs": [
    {
     "name": "stdout",
     "output_type": "stream",
     "text": [
      "Name: qwoyu\n",
      "Age: 18\n"
     ]
    }
   ],
   "source": [
    "class Employee:\n",
    "    def __init__(self):\n",
    "        self.name = 'qwoyu'\n",
    "        self.age = 18\n",
    "\n",
    "e1 = Employee()\n",
    "print(\"Name:\", e1.name)\n",
    "print(\"Age:\",e1.age)"
   ]
  },
  {
   "cell_type": "code",
   "execution_count": 24,
   "id": "bf28055d-f563-45c2-9f4d-c965a0691065",
   "metadata": {},
   "outputs": [
    {
     "name": "stdout",
     "output_type": "stream",
     "text": [
      "Name: asclka\n",
      "Age: 21\n",
      "Age: 32722\n",
      "Name: asdkak\n",
      "Age: 20\n",
      "Age: 29000\n"
     ]
    }
   ],
   "source": [
    "class Employee:\n",
    "    def __init__(self,name,age,salary):\n",
    "        self.name = name\n",
    "        self.age = age\n",
    "        self.salary = salary\n",
    "\n",
    "e1 = Employee('asclka', 21, 32722)\n",
    "e2 = Employee('asdkak', 20, 29000)\n",
    "print(\"Name: {}\".format(e1.name))\n",
    "print(\"Age: {}\".format(e1.age))\n",
    "print(\"Age: {}\".format(e1.salary))\n",
    "print(\"Name: {}\".format(e2.name))\n",
    "print(\"Age: {}\".format(e2.age))\n",
    "print(\"Age: {}\".format(e2.salary))"
   ]
  },
  {
   "cell_type": "code",
   "execution_count": 27,
   "id": "4ec8c3d3-6e2f-499d-be82-540e314d2d44",
   "metadata": {},
   "outputs": [],
   "source": [
    "e1.salary = 23000\n",
    "e2.name = 'udjasccaj'\n",
    "del e1.salary"
   ]
  },
  {
   "cell_type": "code",
   "execution_count": 31,
   "id": "436ef285-96d6-44a8-a698-c37855fcaaa2",
   "metadata": {},
   "outputs": [
    {
     "name": "stdout",
     "output_type": "stream",
     "text": [
      "False\n",
      "asclka\n",
      "None\n",
      "None\n"
     ]
    }
   ],
   "source": [
    "print(hasattr(e1, 'salary'))\n",
    "print(getattr(e1, 'name'))\n",
    "print(setattr(e2, 'age',24))\n",
    "print(delattr(e2, 'age'))\n"
   ]
  },
  {
   "cell_type": "code",
   "execution_count": 36,
   "id": "4bf2e5ee-7bca-4178-b020-ac7538f3e2a9",
   "metadata": {},
   "outputs": [
    {
     "name": "stdout",
     "output_type": "stream",
     "text": [
      "email: danny@gmail.com\n",
      "username: dan\n"
     ]
    }
   ],
   "source": [
    "# 11. Create a class User. Then add attributes email and username dynamically using setattr().\n",
    "\n",
    "class User:\n",
    "    def __init__(self,email,username):\n",
    "        self.email = email\n",
    "        self.username = username\n",
    "\n",
    "# user1 = User('dannyirudhayam@gmail.com', 'danny')\n",
    "# print(\"email:\",user1.email)\n",
    "# print(\"username:\",user1.username)\n",
    "\n",
    "setattr(user1, 'email', 'danny@gmail.com')\n",
    "setattr(user1, 'username', 'dan')\n",
    "\n",
    "print(\"email:\",user1.email)\n",
    "print(\"username:\",user1.username)\n",
    "\n",
    "      "
   ]
  },
  {
   "cell_type": "code",
   "execution_count": null,
   "id": "d96be858-d0ce-4368-9107-90f1f81cc96d",
   "metadata": {},
   "outputs": [],
   "source": []
  }
 ],
 "metadata": {
  "kernelspec": {
   "display_name": "Python 3 (ipykernel)",
   "language": "python",
   "name": "python3"
  },
  "language_info": {
   "codemirror_mode": {
    "name": "ipython",
    "version": 3
   },
   "file_extension": ".py",
   "mimetype": "text/x-python",
   "name": "python",
   "nbconvert_exporter": "python",
   "pygments_lexer": "ipython3",
   "version": "3.13.7"
  }
 },
 "nbformat": 4,
 "nbformat_minor": 5
}
