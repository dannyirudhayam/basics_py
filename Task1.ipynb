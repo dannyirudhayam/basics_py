{
 "cells": [
  {
   "cell_type": "code",
   "execution_count": 20,
   "id": "a6368d5c-53c3-4ef8-96ce-415857933b10",
   "metadata": {},
   "outputs": [
    {
     "name": "stdin",
     "output_type": "stream",
     "text": [
      "Enter a Year: 2000\n"
     ]
    },
    {
     "name": "stdout",
     "output_type": "stream",
     "text": [
      "2000\n",
      "It's a LEAP YEAR\n"
     ]
    }
   ],
   "source": [
    "#11.my_task1 is/is not Leap year\n",
    "\n",
    "n = int(input(\"Enter a Year:\"))\n",
    "print(n)\n",
    "\n",
    "if n%4 == 0 and n%100 != 0:\n",
    "    print(\"It's a LEAP YEAR\")\n",
    "elif n%400 ==0:\n",
    "    print(\"It's a LEAP YEAR\")\n",
    "else:\n",
    "    print(\"It's not a leap year\")"
   ]
  },
  {
   "cell_type": "code",
   "execution_count": 5,
   "id": "41a91edd-9169-46fb-8320-2740e4d5c18b",
   "metadata": {},
   "outputs": [
    {
     "name": "stdin",
     "output_type": "stream",
     "text": [
      "Enter a Year 2028\n"
     ]
    },
    {
     "name": "stdout",
     "output_type": "stream",
     "text": [
      "2028\n",
      "It's a LEAP YEAR\n"
     ]
    }
   ],
   "source": [
    "n = int(input(\"Enter a Year:\"))\n",
    "print(n)\n",
    "\n",
    "if n%4 == 0:\n",
    "    print(\"It's a LEAP YEAR\")\n",
    "else:\n",
    "    print(\"It's not a leap year\")"
   ]
  },
  {
   "cell_type": "code",
   "execution_count": 23,
   "id": "140b5c01-0bb1-4406-9aad-48962024b12b",
   "metadata": {},
   "outputs": [
    {
     "name": "stdin",
     "output_type": "stream",
     "text": [
      "Enter ur input: ex\n",
      "Enter ur input: exi\n",
      "Enter ur input: xyz\n",
      "Enter ur input: exit\n"
     ]
    }
   ],
   "source": [
    "#10.ask for input untill the user print \"exit\" use (while+break)\n",
    "\n",
    "while True:\n",
    "    user  = input(\"Enter ur input:\")\n",
    "    if user == \"exit\":\n",
    "        break"
   ]
  },
  {
   "cell_type": "code",
   "execution_count": 27,
   "id": "b48ce416-4def-40b5-bcb6-a4d8e333870b",
   "metadata": {},
   "outputs": [
    {
     "name": "stdin",
     "output_type": "stream",
     "text": [
      "Enter a number: -235\n"
     ]
    },
    {
     "name": "stdout",
     "output_type": "stream",
     "text": [
      "-235\n",
      "-235 is negative (-)\n"
     ]
    }
   ],
   "source": [
    "#9. Check if a given number is positive, negative, or zero\n",
    "\n",
    "n = int(input(\"Enter a number:\"))\n",
    "print(n)\n",
    "\n",
    "if n>1:\n",
    "    print(n,\"is posoitive (+)\")\n",
    "elif n==0:\n",
    "    print(n,\"is zero\")\n",
    "else:\n",
    "    print(n,\"is negative (-)\")\n",
    "    "
   ]
  },
  {
   "cell_type": "code",
   "execution_count": 28,
   "id": "7e9aceff-a8df-4c08-a2d5-f19c86097ead",
   "metadata": {},
   "outputs": [
    {
     "name": "stdin",
     "output_type": "stream",
     "text": [
      "Enter a number: 474\n",
      "Enter a number: 449\n",
      "Enter a number: 748\n"
     ]
    },
    {
     "name": "stdout",
     "output_type": "stream",
     "text": [
      "474\n",
      "449\n",
      "748\n",
      "748 is greatest\n"
     ]
    }
   ],
   "source": [
    "#8. Write a program to find the largest of three numbers using if-elif-else\n",
    "\n",
    "a = int(input(\"Enter a number:\")) \n",
    "b = int(input(\"Enter a number:\"))\n",
    "c = int(input(\"Enter a number:\"))\n",
    "\n",
    "print(a)\n",
    "print(b)\n",
    "print(c)\n",
    "if a > b and a > c:\n",
    "    print(a,\"is greatest\")\n",
    "elif b > c:\n",
    "    print(b,\"is greatest\")\n",
    "else:\n",
    "    print(c,\"is greatest\")\n"
   ]
  },
  {
   "cell_type": "code",
   "execution_count": 22,
   "id": "fe047309-f98b-402a-acb5-53a36046f079",
   "metadata": {},
   "outputs": [
    {
     "name": "stdout",
     "output_type": "stream",
     "text": [
      "1\n",
      "2\n",
      "4\n",
      "5\n",
      "7\n",
      "8\n",
      "10\n",
      "11\n",
      "13\n",
      "14\n",
      "16\n",
      "17\n",
      "19\n",
      "20\n",
      "22\n",
      "23\n",
      "25\n",
      "26\n",
      "28\n",
      "29\n"
     ]
    }
   ],
   "source": [
    "#7.to skip printing multiples of 3 but print other number between 1 to 30\n",
    "\n",
    "for n in range(0,30):\n",
    "    if n % 3 == 0:\n",
    "        continue\n",
    "    print(n)"
   ]
  },
  {
   "cell_type": "code",
   "execution_count": 34,
   "id": "0db0cfc2-1e34-41f2-a560-84fd3f77be7a",
   "metadata": {},
   "outputs": [
    {
     "name": "stdout",
     "output_type": "stream",
     "text": [
      "0\n",
      "1\n",
      "2\n",
      "3\n",
      "4\n",
      "5\n",
      "6\n",
      "7\n",
      "8\n",
      "9\n",
      "10\n",
      "11\n",
      "12\n"
     ]
    }
   ],
   "source": [
    "#6.Use break to stop printing numbers when the number reaches 13\n",
    "\n",
    "i=0\n",
    "while (i<13):\n",
    "    print(i)\n",
    "    i+=1\n",
    "    "
   ]
  },
  {
   "cell_type": "code",
   "execution_count": 36,
   "id": "99616362-c30f-4d86-83e0-6d2bcef52ee5",
   "metadata": {},
   "outputs": [
    {
     "name": "stdin",
     "output_type": "stream",
     "text": [
      "Give a number: 7\n"
     ]
    },
    {
     "name": "stdout",
     "output_type": "stream",
     "text": [
      "7\n",
      "1x7= 7\n",
      "2x7= 14\n",
      "3x7= 21\n",
      "4x7= 28\n",
      "5x7= 35\n",
      "6x7= 42\n",
      "7x7= 49\n",
      "8x7= 56\n",
      "9x7= 63\n",
      "10x7= 70\n"
     ]
    }
   ],
   "source": [
    "#2. Print the multiplication table of a given number (say 7) using a while loop\n",
    "\n",
    "n = int(input(\"Give a number:\"))\n",
    "print(n)\n",
    "\n",
    "a = 1\n",
    "while(a<=10):\n",
    "    print(f\"{a}x{n}=\",a*n)\n",
    "    a += 1\n"
   ]
  },
  {
   "cell_type": "code",
   "execution_count": 45,
   "id": "0d875cb6-67ad-418c-9351-4c5e7800eb22",
   "metadata": {},
   "outputs": [
    {
     "name": "stdout",
     "output_type": "stream",
     "text": [
      "2\n",
      "4\n",
      "6\n",
      "8\n",
      "10\n",
      "12\n",
      "14\n",
      "16\n",
      "18\n",
      "20\n",
      "22\n",
      "24\n",
      "26\n",
      "28\n",
      "30\n",
      "32\n",
      "34\n",
      "36\n",
      "38\n",
      "40\n",
      "42\n",
      "44\n",
      "46\n",
      "48\n"
     ]
    }
   ],
   "source": [
    "#Print all even numbers between 1 and 50 using a for loop\n",
    "\n",
    "for i in range(1,50):\n",
    "    if i%2 == 0:\n",
    "        print(i)\n",
    "    "
   ]
  },
  {
   "cell_type": "code",
   "execution_count": null,
   "id": "1bc9b9d2-1fbb-4f90-8bb7-4444e8e06445",
   "metadata": {},
   "outputs": [],
   "source": []
  }
 ],
 "metadata": {
  "kernelspec": {
   "display_name": "Python 3 (ipykernel)",
   "language": "python",
   "name": "python3"
  },
  "language_info": {
   "codemirror_mode": {
    "name": "ipython",
    "version": 3
   },
   "file_extension": ".py",
   "mimetype": "text/x-python",
   "name": "python",
   "nbconvert_exporter": "python",
   "pygments_lexer": "ipython3",
   "version": "3.13.7"
  }
 },
 "nbformat": 4,
 "nbformat_minor": 5
}
